{
 "cells": [
  {
   "cell_type": "code",
   "execution_count": 1,
   "metadata": {},
   "outputs": [],
   "source": [
    "# Import necessary libraries\n",
    "import os\n",
    "import pandas as pd\n",
    "import numpy as np\n",
    "import tensorflow as tf\n",
    "from tensorflow.keras.preprocessing.image import ImageDataGenerator\n",
    "from sklearn.model_selection import train_test_split\n",
    "from PIL import Image"
   ]
  },
  {
   "cell_type": "code",
   "execution_count": 2,
   "metadata": {},
   "outputs": [],
   "source": [
    "def is_image_file(filepath):\n",
    "    try:\n",
    "        Image.open(filepath).verify()\n",
    "        return True\n",
    "    except (IOError, SyntaxError) as e:\n",
    "        print(f\"Warning: {filepath} is not a valid image file.\")\n",
    "        return False"
   ]
  },
  {
   "cell_type": "code",
   "execution_count": 3,
   "metadata": {},
   "outputs": [],
   "source": [
    "# Load data function\n",
    "def load_data(image_dir, csv_file, img_height=224, img_width=224):\n",
    "    # Load the CSV file\n",
    "    df = pd.read_csv(csv_file)\n",
    "    \n",
    "    # Debug: Print column names to ensure correct loading\n",
    "    print(f\"Columns in CSV file: {df.columns.tolist()}\")\n",
    "    \n",
    "    if 'Food item' not in df.columns or 'Calories' not in df.columns:\n",
    "        raise KeyError(\"CSV file must contain 'Food item' and 'Calories' columns\")\n",
    "    \n",
    "    df['Food item'] = df['Food item'].str.lower()  # Ensure consistency in food item names\n",
    "    \n",
    "    # Create a dictionary to map food items to calorie values\n",
    "    food_to_calories = dict(zip(df['Food item'], df['Calories']))\n",
    "    \n",
    "    # Create lists to store images and labels\n",
    "    images = []\n",
    "    labels = []\n",
    "    missing_food_items = set()\n",
    "    \n",
    "    # Iterate over the directories in the image directory\n",
    "    for food_item in os.listdir(image_dir):\n",
    "        food_item_path = os.path.join(image_dir, food_item)\n",
    "        if os.path.isdir(food_item_path):\n",
    "            food_item_lower = food_item.lower()\n",
    "            if food_item_lower not in food_to_calories:\n",
    "                missing_food_items.add(food_item_lower)\n",
    "                continue  # Skip this food item\n",
    "            \n",
    "            for img_name in os.listdir(food_item_path):\n",
    "                img_path = os.path.join(food_item_path, img_name)\n",
    "                if is_image_file(img_path):  # Check if the file is a valid image\n",
    "                    images.append(img_path)\n",
    "                    labels.append(food_to_calories[food_item_lower])\n",
    "    \n",
    "    # Debug: Print missing food items\n",
    "    if missing_food_items:\n",
    "        print(f\"Missing food items in CSV: {missing_food_items}\")\n",
    "    \n",
    "    # Convert to numpy arrays\n",
    "    images = np.array(images)\n",
    "    labels = np.array(labels)\n",
    "    \n",
    "    # Split into training and validation sets\n",
    "    train_images, val_images, train_labels, val_labels = train_test_split(images, labels, test_size=0.2, random_state=42)\n",
    "    \n",
    "    # Data generators\n",
    "    train_datagen = ImageDataGenerator(\n",
    "        rescale=1./255,\n",
    "        rotation_range=40,\n",
    "        width_shift_range=0.2,\n",
    "        height_shift_range=0.2,\n",
    "        shear_range=0.2,\n",
    "        zoom_range=0.2,\n",
    "        horizontal_flip=True,\n",
    "        fill_mode='nearest'\n",
    "    )\n",
    "    \n",
    "    val_datagen = ImageDataGenerator(rescale=1./255)\n",
    "    \n",
    "    train_generator = train_datagen.flow_from_dataframe(\n",
    "        dataframe=pd.DataFrame({'filename': train_images, 'class': train_labels}),\n",
    "        x_col='filename',\n",
    "        y_col='class',\n",
    "        target_size=(img_height, img_width),\n",
    "        batch_size=32,\n",
    "        class_mode='raw'\n",
    "    )\n",
    "    \n",
    "    val_generator = val_datagen.flow_from_dataframe(\n",
    "        dataframe=pd.DataFrame({'filename': val_images, 'class': val_labels}),\n",
    "        x_col='filename',\n",
    "        y_col='class',\n",
    "        target_size=(img_height, img_width),\n",
    "        batch_size=32,\n",
    "        class_mode='raw'\n",
    "    )\n",
    "    \n",
    "    return train_generator, val_generator"
   ]
  },
  {
   "cell_type": "code",
   "execution_count": 4,
   "metadata": {},
   "outputs": [],
   "source": [
    "\n",
    "# Model definition\n",
    "def create_model(input_shape):\n",
    "    model = tf.keras.Sequential([\n",
    "        tf.keras.layers.Conv2D(32, (3, 3), activation='relu', input_shape=input_shape),\n",
    "        tf.keras.layers.MaxPooling2D((2, 2)),\n",
    "        tf.keras.layers.Conv2D(64, (3, 3), activation='relu'),\n",
    "        tf.keras.layers.MaxPooling2D((2, 2)),\n",
    "        tf.keras.layers.Conv2D(128, (3, 3), activation='relu'),\n",
    "        tf.keras.layers.MaxPooling2D((2, 2)),\n",
    "        tf.keras.layers.Conv2D(128, (3, 3), activation='relu'),\n",
    "        tf.keras.layers.MaxPooling2D((2, 2)),\n",
    "        tf.keras.layers.Flatten(),\n",
    "        tf.keras.layers.Dense(512, activation='relu'),\n",
    "        tf.keras.layers.Dense(1)\n",
    "    ])\n",
    "    \n",
    "    model.compile(optimizer='adam', loss='mean_squared_error', metrics=['mae'])\n",
    "    \n",
    "    return model"
   ]
  },
  {
   "cell_type": "code",
   "execution_count": 13,
   "metadata": {},
   "outputs": [
    {
     "name": "stdout",
     "output_type": "stream",
     "text": [
      "Columns in CSV file: ['Food item', 'Calories']\n",
      "Found 2553 validated image filenames.\n",
      "Found 639 validated image filenames.\n"
     ]
    }
   ],
   "source": [
    "# Load data\n",
    "image_dir = '../dataset/food_images'  # Replace with your path\n",
    "csv_file = '../dataset/food_calories.csv'  # Replace with your path\n",
    "img_height, img_width = 224, 224\n",
    "\n",
    "train_generator, val_generator = load_data(image_dir, csv_file, img_height, img_width)"
   ]
  },
  {
   "cell_type": "code",
   "execution_count": 14,
   "metadata": {},
   "outputs": [
    {
     "name": "stderr",
     "output_type": "stream",
     "text": [
      "c:\\Users\\tridi\\Desktop\\Know Calorie\\venv\\Lib\\site-packages\\keras\\src\\layers\\convolutional\\base_conv.py:107: UserWarning: Do not pass an `input_shape`/`input_dim` argument to a layer. When using Sequential models, prefer using an `Input(shape)` object as the first layer in the model instead.\n",
      "  super().__init__(activity_regularizer=activity_regularizer, **kwargs)\n"
     ]
    }
   ],
   "source": [
    "# Create model\n",
    "input_shape = (img_height, img_width, 3)\n",
    "model = create_model(input_shape)"
   ]
  },
  {
   "cell_type": "code",
   "execution_count": 15,
   "metadata": {},
   "outputs": [
    {
     "name": "stdout",
     "output_type": "stream",
     "text": [
      "Epoch 1/20\n"
     ]
    },
    {
     "name": "stderr",
     "output_type": "stream",
     "text": [
      "c:\\Users\\tridi\\Desktop\\Know Calorie\\venv\\Lib\\site-packages\\keras\\src\\trainers\\data_adapters\\py_dataset_adapter.py:121: UserWarning: Your `PyDataset` class should call `super().__init__(**kwargs)` in its constructor. `**kwargs` can include `workers`, `use_multiprocessing`, `max_queue_size`. Do not pass these arguments to `fit()`, as they will be ignored.\n",
      "  self._warn_if_super_not_called()\n"
     ]
    },
    {
     "name": "stdout",
     "output_type": "stream",
     "text": [
      "\u001B[1m80/80\u001B[0m \u001B[32m━━━━━━━━━━━━━━━━━━━━\u001B[0m\u001B[37m\u001B[0m \u001B[1m204s\u001B[0m 2s/step - loss: 19699.1582 - mae: 111.8871 - val_loss: 4611.1167 - val_mae: 52.7230\n",
      "Epoch 2/20\n",
      "\u001B[1m80/80\u001B[0m \u001B[32m━━━━━━━━━━━━━━━━━━━━\u001B[0m\u001B[37m\u001B[0m \u001B[1m227s\u001B[0m 3s/step - loss: 4953.7451 - mae: 54.9089 - val_loss: 6390.8696 - val_mae: 65.5829\n",
      "Epoch 3/20\n",
      "\u001B[1m80/80\u001B[0m \u001B[32m━━━━━━━━━━━━━━━━━━━━\u001B[0m\u001B[37m\u001B[0m \u001B[1m228s\u001B[0m 3s/step - loss: 4642.3135 - mae: 52.3542 - val_loss: 4456.9150 - val_mae: 52.1545\n",
      "Epoch 4/20\n",
      "\u001B[1m80/80\u001B[0m \u001B[32m━━━━━━━━━━━━━━━━━━━━\u001B[0m\u001B[37m\u001B[0m \u001B[1m243s\u001B[0m 3s/step - loss: 4441.9873 - mae: 50.3433 - val_loss: 6571.6113 - val_mae: 67.8945\n",
      "Epoch 5/20\n",
      "\u001B[1m80/80\u001B[0m \u001B[32m━━━━━━━━━━━━━━━━━━━━\u001B[0m\u001B[37m\u001B[0m \u001B[1m245s\u001B[0m 3s/step - loss: 4813.4019 - mae: 53.9582 - val_loss: 4542.9048 - val_mae: 53.6647\n",
      "Epoch 6/20\n",
      "\u001B[1m80/80\u001B[0m \u001B[32m━━━━━━━━━━━━━━━━━━━━\u001B[0m\u001B[37m\u001B[0m \u001B[1m246s\u001B[0m 3s/step - loss: 4322.5215 - mae: 50.3645 - val_loss: 4213.6094 - val_mae: 50.8637\n",
      "Epoch 7/20\n",
      "\u001B[1m80/80\u001B[0m \u001B[32m━━━━━━━━━━━━━━━━━━━━\u001B[0m\u001B[37m\u001B[0m \u001B[1m197s\u001B[0m 2s/step - loss: 4202.3247 - mae: 49.2258 - val_loss: 4094.0664 - val_mae: 49.7259\n",
      "Epoch 8/20\n",
      "\u001B[1m80/80\u001B[0m \u001B[32m━━━━━━━━━━━━━━━━━━━━\u001B[0m\u001B[37m\u001B[0m \u001B[1m187s\u001B[0m 2s/step - loss: 4408.9878 - mae: 50.6505 - val_loss: 4236.5122 - val_mae: 48.4011\n",
      "Epoch 9/20\n",
      "\u001B[1m80/80\u001B[0m \u001B[32m━━━━━━━━━━━━━━━━━━━━\u001B[0m\u001B[37m\u001B[0m \u001B[1m170s\u001B[0m 2s/step - loss: 4067.2656 - mae: 49.1923 - val_loss: 4533.1323 - val_mae: 53.7461\n",
      "Epoch 10/20\n",
      "\u001B[1m80/80\u001B[0m \u001B[32m━━━━━━━━━━━━━━━━━━━━\u001B[0m\u001B[37m\u001B[0m \u001B[1m150s\u001B[0m 2s/step - loss: 4526.7070 - mae: 51.0773 - val_loss: 4001.5457 - val_mae: 47.7196\n",
      "Epoch 11/20\n",
      "\u001B[1m80/80\u001B[0m \u001B[32m━━━━━━━━━━━━━━━━━━━━\u001B[0m\u001B[37m\u001B[0m \u001B[1m147s\u001B[0m 2s/step - loss: 4412.3438 - mae: 51.1927 - val_loss: 4213.9395 - val_mae: 51.0089\n",
      "Epoch 12/20\n",
      "\u001B[1m80/80\u001B[0m \u001B[32m━━━━━━━━━━━━━━━━━━━━\u001B[0m\u001B[37m\u001B[0m \u001B[1m148s\u001B[0m 2s/step - loss: 4197.1108 - mae: 49.2834 - val_loss: 4032.1260 - val_mae: 49.3330\n",
      "Epoch 13/20\n",
      "\u001B[1m80/80\u001B[0m \u001B[32m━━━━━━━━━━━━━━━━━━━━\u001B[0m\u001B[37m\u001B[0m \u001B[1m149s\u001B[0m 2s/step - loss: 4613.5015 - mae: 52.2409 - val_loss: 3924.2297 - val_mae: 47.6375\n",
      "Epoch 14/20\n",
      "\u001B[1m80/80\u001B[0m \u001B[32m━━━━━━━━━━━━━━━━━━━━\u001B[0m\u001B[37m\u001B[0m \u001B[1m152s\u001B[0m 2s/step - loss: 4213.5503 - mae: 49.8966 - val_loss: 3915.1956 - val_mae: 47.2158\n",
      "Epoch 15/20\n",
      "\u001B[1m80/80\u001B[0m \u001B[32m━━━━━━━━━━━━━━━━━━━━\u001B[0m\u001B[37m\u001B[0m \u001B[1m154s\u001B[0m 2s/step - loss: 4228.4639 - mae: 50.1175 - val_loss: 3944.0618 - val_mae: 48.4592\n",
      "Epoch 16/20\n",
      "\u001B[1m80/80\u001B[0m \u001B[32m━━━━━━━━━━━━━━━━━━━━\u001B[0m\u001B[37m\u001B[0m \u001B[1m190s\u001B[0m 2s/step - loss: 4177.7993 - mae: 48.5862 - val_loss: 4289.1001 - val_mae: 48.7383\n",
      "Epoch 17/20\n",
      "\u001B[1m80/80\u001B[0m \u001B[32m━━━━━━━━━━━━━━━━━━━━\u001B[0m\u001B[37m\u001B[0m \u001B[1m187s\u001B[0m 2s/step - loss: 4003.4185 - mae: 48.4430 - val_loss: 4094.0110 - val_mae: 50.1847\n",
      "Epoch 18/20\n",
      "\u001B[1m80/80\u001B[0m \u001B[32m━━━━━━━━━━━━━━━━━━━━\u001B[0m\u001B[37m\u001B[0m \u001B[1m153s\u001B[0m 2s/step - loss: 4063.5703 - mae: 49.3653 - val_loss: 3904.8262 - val_mae: 47.3569\n",
      "Epoch 19/20\n",
      "\u001B[1m80/80\u001B[0m \u001B[32m━━━━━━━━━━━━━━━━━━━━\u001B[0m\u001B[37m\u001B[0m \u001B[1m152s\u001B[0m 2s/step - loss: 4007.0293 - mae: 49.2256 - val_loss: 3826.1284 - val_mae: 47.1296\n",
      "Epoch 20/20\n",
      "\u001B[1m80/80\u001B[0m \u001B[32m━━━━━━━━━━━━━━━━━━━━\u001B[0m\u001B[37m\u001B[0m \u001B[1m154s\u001B[0m 2s/step - loss: 4171.6758 - mae: 49.2251 - val_loss: 3850.3650 - val_mae: 47.7308\n"
     ]
    }
   ],
   "source": [
    "# Train the model\n",
    "epochs = 20\n",
    "history = model.fit(\n",
    "    train_generator,\n",
    "    epochs=epochs,\n",
    "    validation_data=val_generator\n",
    ")"
   ]
  },
  {
   "cell_type": "code",
   "execution_count": 16,
   "metadata": {},
   "outputs": [
    {
     "name": "stderr",
     "output_type": "stream",
     "text": [
      "WARNING:absl:You are saving your model as an HDF5 file via `model.save()` or `keras.saving.save_model(model)`. This file format is considered legacy. We recommend using instead the native Keras format, e.g. `model.save('my_model.keras')` or `keras.saving.save_model(model, 'my_model.keras')`. \n"
     ]
    }
   ],
   "source": [
    "# Save the model\n",
    "model.save('calories_prediction_model.h5')"
   ]
  },
  {
   "cell_type": "code",
   "execution_count": 17,
   "metadata": {},
   "outputs": [
    {
     "data": {
      "image/png": "[encoded data removed]",
      "text/plain": [
       "<Figure size 640x480 with 1 Axes>"
      ]
     },
     "metadata": {},
     "output_type": "display_data"
    }
   ],
   "source": [
    "# Plot training history\n",
    "import matplotlib.pyplot as plt\n",
    "\n",
    "plt.plot(history.history['mae'], label='MAE (training data)')\n",
    "plt.plot(history.history['val_mae'], label='MAE (validation data)')\n",
    "plt.title('MAE for Calories Prediction')\n",
    "plt.ylabel('MAE value')\n",
    "plt.xlabel('No. epoch')\n",
    "plt.legend(loc=\"upper left\")\n",
    "plt.show()"
   ]
  }
 ],
 "metadata": {
  "kernelspec": {
   "display_name": "venv",
   "language": "python",
   "name": "python3"
  },
  "language_info": {
   "codemirror_mode": {
    "name": "ipython",
    "version": 3
   },
   "file_extension": ".py",
   "mimetype": "text/x-python",
   "name": "python",
   "nbconvert_exporter": "python",
   "pygments_lexer": "ipython3",
   "version": "3.12.3"
  }
 },
 "nbformat": 4,
 "nbformat_minor": 2
}
